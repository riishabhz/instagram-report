{
 "cells": [
  {
   "cell_type": "code",
   "execution_count": 1,
   "metadata": {},
   "outputs": [
    {
     "name": "stderr",
     "output_type": "stream",
     "text": [
      "E:\\anaconda\\lib\\site-packages\\ipykernel\\parentpoller.py:116: UserWarning: Parent poll failed.  If the frontend dies,\n",
      "                the kernel may be left running.  Please let us know\n",
      "                about your system (bitness, Python, etc.) at\n",
      "                ipython-dev@scipy.org\n",
      "  ipython-dev@scipy.org\"\"\")\n"
     ]
    }
   ],
   "source": [
    "import selenium"
   ]
  },
  {
   "cell_type": "code",
   "execution_count": null,
   "metadata": {},
   "outputs": [
    {
     "name": "stdout",
     "output_type": "stream",
     "text": [
      "sleeping for 5 mins\n"
     ]
    }
   ],
   "source": [
    "from selenium import webdriver\n",
    "from selenium.webdriver.common.keys import Keys\n",
    "import time\n",
    "def fun():\n",
    "    driver=webdriver.Chrome(executable_path=r\"chromedriver.exe\")\n",
    "    driver.set_page_load_timeout(10)\n",
    "    driver.get(\"https://help.instagram.com/contact/606967319425038\")\n",
    "    driver.find_element_by_name(\"name\").send_keys(\"rishabh bhardwaj\") #enter name here\n",
    "    driver.find_element_by_name(\"instagram_username\").send_keys(\"universe.babes\") #enter instagram id here\n",
    "    driver.find_element_by_name(\"email\").send_keys(\"rahulchhikara000@gmail.com\") #enter email here\n",
    "    driver.find_element_by_name(\"mobile_number\").send_keys(\"80\") #enter phone number\n",
    "    driver.find_element_by_id(\"709786765737601\").send_keys(\"hi instagram i know i have done mistake , but please give me one chance to rectify it,i will not repeat this in future i can give you assurance.\")\n",
    "    driver.find_element_by_id(\"u_0_7\").send_keys(Keys.ENTER)\n",
    "    time.sleep(5)\n",
    "    driver.close()\n",
    "while True:\n",
    "    fun()\n",
    "    print(\"sleeping for 5 mins\")\n",
    "    time.sleep(120)\n"
   ]
  },
  {
   "cell_type": "code",
   "execution_count": null,
   "metadata": {},
   "outputs": [],
   "source": []
  }
 ],
 "metadata": {
  "kernelspec": {
   "display_name": "Python 3",
   "language": "python",
   "name": "python3"
  },
  "language_info": {
   "codemirror_mode": {
    "name": "ipython",
    "version": 3
   },
   "file_extension": ".py",
   "mimetype": "text/x-python",
   "name": "python",
   "nbconvert_exporter": "python",
   "pygments_lexer": "ipython3",
   "version": "3.7.0"
  }
 },
 "nbformat": 4,
 "nbformat_minor": 2
}
